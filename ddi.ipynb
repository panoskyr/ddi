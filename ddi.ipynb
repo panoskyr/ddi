{
 "cells": [
  {
   "cell_type": "code",
   "execution_count": 45,
   "metadata": {},
   "outputs": [],
   "source": [
    "import torch \n",
    "import numpy \n",
    "dataset_name='ogbl-ddi'\n",
    "from ogb.linkproppred import PygLinkPropPredDataset\n",
    "\n",
    "\n",
    "\n",
    "dataset=PygLinkPropPredDataset(name=dataset_name)\n",
    "\n",
    "\n"
   ]
  },
  {
   "attachments": {},
   "cell_type": "markdown",
   "metadata": {},
   "source": [
    "Resources used for inspiration on code:\n",
    "graph exploration from :\n",
    "https://medium.com/mlearning-ai/ultimate-guide-to-graph-neural-networks-1-cora-dataset-37338c04fe6f"
   ]
  },
  {
   "attachments": {},
   "cell_type": "markdown",
   "metadata": {},
   "source": [
    "# Exploring our data"
   ]
  },
  {
   "cell_type": "code",
   "execution_count": 33,
   "metadata": {},
   "outputs": [
    {
     "name": "stdout",
     "output_type": "stream",
     "text": [
      "the ogbl-ddi has 1 graph\n",
      "number of nodes:4267\n",
      "number of edges 2135822\n",
      "number of features 0\n",
      "is data-graph directed? :False\n",
      "data has self-loops? : False\n",
      "data has isolated nodes? : False\n"
     ]
    }
   ],
   "source": [
    "data=dataset[0]\n",
    "print(f'the {dataset_name} has {len(dataset)} graph')\n",
    "print(f'number of nodes:{data.num_nodes}')\n",
    "print(f'number of edges {data.num_edges}')\n",
    "print(f'number of features {data.num_node_features}')\n",
    "print(f'is data-graph directed? :{data.is_directed()}')\n",
    "print(f'data has self-loops? : {data.has_self_loops()}')\n",
    "print(f'data has isolated nodes? : {data.has_isolated_nodes()}')"
   ]
  },
  {
   "attachments": {},
   "cell_type": "markdown",
   "metadata": {},
   "source": [
    "Data edges are given as two arrays \n",
    "array[0][i] holds the edge to array [1][i]\n",
    "we look only on one array and infer the second\n",
    " "
   ]
  },
  {
   "attachments": {},
   "cell_type": "markdown",
   "metadata": {},
   "source": [
    "Helper functions\n",
    "\n",
    "nx gets edges a stules\n"
   ]
  },
  {
   "cell_type": "code",
   "execution_count": 72,
   "metadata": {},
   "outputs": [],
   "source": [
    "def get_neighbors(node_index):\n",
    "    return edge_index[:,numpy.where(edge_index[0]==node_index)[0]][1]\n",
    "\n",
    "import networkx as nx\n",
    "def visualize_nx(edges_list):\n",
    "    unique_list=numpy.unique(edges_list)\n",
    "    print(f'the graph has {unique_list.shape}')\n",
    "    myGraph=nx.Graph()\n",
    "    myGraph.add_nodes_from(unique_list)\n",
    "    \n",
    "    myGraph.add_edges_from()\n"
   ]
  },
  {
   "cell_type": "code",
   "execution_count": 75,
   "metadata": {},
   "outputs": [
    {
     "data": {
      "text/plain": [
       "(641,)"
      ]
     },
     "execution_count": 75,
     "metadata": {},
     "output_type": "execute_result"
    }
   ],
   "source": []
  }
 ],
 "metadata": {
  "kernelspec": {
   "display_name": "Python 3",
   "language": "python",
   "name": "python3"
  },
  "language_info": {
   "codemirror_mode": {
    "name": "ipython",
    "version": 3
   },
   "file_extension": ".py",
   "mimetype": "text/x-python",
   "name": "python",
   "nbconvert_exporter": "python",
   "pygments_lexer": "ipython3",
   "version": "3.10.4"
  },
  "orig_nbformat": 4
 },
 "nbformat": 4,
 "nbformat_minor": 2
}
